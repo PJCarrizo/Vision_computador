{
 "cells": [
  {
   "cell_type": "markdown",
   "metadata": {},
   "source": [
    "### TP_2\n",
    "### Encontrar el logotipo de la gaseosa dentro de las imágenes provistas en\n",
    "### Material_TPs / images a partir del template Material_TPs / template\n",
    "### 1.(4 puntos) Obtener una detección del logo en cada imagen sin falsos positivos\n",
    "### 2.(4 puntos) Plantear y validar un algoritmo para múltiples detecciones en la imagen coca_multi png con el mismo témplate del item 2\n",
    "### 3.(2 puntos) Generalizar el algoritmo del item 2 para todas las imágenes\n",
    "### Visualizar los resultados con bounding boxes en cada imagen mostrando el nivel de confianza de la detección"
   ]
  },
  {
   "cell_type": "code",
   "execution_count": null,
   "metadata": {},
   "outputs": [],
   "source": [
    "#Si queremos que las imágenes sean mostradas en una ventana emergente quitar el inline\n",
    "%matplotlib inline\n",
    "#%matplotlib\n",
    "\n",
    "# OpenCV-Python utiliza NumPy para el manejo de imágenes\n",
    "import numpy as np\n",
    "# cv2 es el módulo python para acceder a OpenCV \n",
    "import cv2 as cv\n",
    "# Usamos las poderosas herramientas de graficación de matplotlib para mostrar imágenes, perfiles, histogramas, etc\n",
    "import matplotlib.pyplot as plt\n",
    "\n",
    "import typing\n",
    "import builtins as _mod_builtins\n",
    "#import cv2 as _mod_cv2\n",
    "#import numpy as np"
   ]
  },
  {
   "cell_type": "code",
   "execution_count": null,
   "metadata": {},
   "outputs": [],
   "source": [
    "# Cargamos la imagen a procesar\n",
    "img = cv.imread('coca_logo_2.png')\n",
    "\n",
    "img_rgb= cv.cvtColor(img, cv.COLOR_BGR2RGB)\n",
    "img_gray= cv.cvtColor(img, cv.COLOR_BGR2GRAY)\n",
    "template = cv.imread('pattern.png',0)\n",
    "\n",
    "plt.figure()\n",
    "plt.subplot(1,2,1)\n",
    "plt.imshow(template, cmap='gray')\n",
    "plt.subplot(1,2,2)\n",
    "plt.imshow(img_rgb)"
   ]
  },
  {
   "cell_type": "markdown",
   "metadata": {},
   "source": [
    "### Obtener una detección del logo en cada imagen sin falsos positivos\n",
    "### Plantear y validar un algoritmo para múltiples detecciones en la imagen coca_multi png con el mismo témplate del item 2\n",
    "### Generalizar el algoritmo del item 2 para todas las imágenes"
   ]
  },
  {
   "cell_type": "code",
   "execution_count": null,
   "metadata": {},
   "outputs": [],
   "source": [
    "####### PRUEBA 1 - coca_logo_1.png #######\n",
    "img_rgb = cv.imread('coca_logo_1.png')\n",
    "img_gray = cv.cvtColor(img_rgb, cv.COLOR_BGR2GRAY)\n",
    "template = cv.imread('pattern.png',0)\n",
    "\n",
    "w, h = template.shape[::-1]\n",
    "res = cv.matchTemplate(img_gray,template,cv.TM_CCOEFF_NORMED)\n",
    "# Fijamos un umbral de \"coincidencia\"\n",
    "threshold = 0.75\n",
    "\n",
    "\n",
    "loc = np.where( res >= threshold)\n",
    "for pt in zip(*loc[::-1]):\n",
    "    cv.rectangle(img_rgb, pt, (pt[0] + w, pt[1] + h), (0,0,255), 2)\n",
    "\n",
    "cv.imshow(\"PRUEBA_1\",img_rgb)    "
   ]
  },
  {
   "cell_type": "code",
   "execution_count": null,
   "metadata": {},
   "outputs": [],
   "source": [
    "####### PRUEBA 2 - coca_logo_2.png #######\n",
    "img_rgb = cv.imread('coca_logo_2.png')\n",
    "img_gray = cv.cvtColor(img_rgb, cv.COLOR_BGR2GRAY)\n",
    "template = cv.imread('pattern.png',0)\n",
    "\n",
    "w, h = template.shape[::-1]\n",
    "res = cv.matchTemplate(img_gray,template,cv.TM_CCOEFF_NORMED)\n",
    "# Fijamos un umbral de \"coincidencia\"\n",
    "threshold = 0.75\n",
    "\n",
    "\n",
    "loc = np.where( res >= threshold)\n",
    "for pt in zip(*loc[::-1]):\n",
    "    cv.rectangle(img_rgb, pt, (pt[0] + w, pt[1] + h), (0,0,255), 2)\n",
    "\n",
    "cv.imshow(\"PRUEBA_2\",img_rgb)    \n"
   ]
  },
  {
   "cell_type": "code",
   "execution_count": null,
   "metadata": {},
   "outputs": [],
   "source": [
    "####### PRUEBA 3 - coca_multi.png #######\n",
    "img_rgb = cv.imread('coca_multi.png')\n",
    "img_gray = cv.cvtColor(img_rgb, cv.COLOR_BGR2GRAY)\n",
    "template = cv.imread('pattern.png',0)\n",
    "\n",
    "w, h = template.shape[::-1]\n",
    "res = cv.matchTemplate(img_gray,template,cv.TM_CCOEFF_NORMED)\n",
    "# Fijamos un umbral de \"coincidencia\"\n",
    "threshold = 0.75\n",
    "\n",
    "\n",
    "loc = np.where( res >= threshold)\n",
    "for pt in zip(*loc[::-1]):\n",
    "    cv.rectangle(img_rgb, pt, (pt[0] + w, pt[1] + h), (0,0,255), 2)\n",
    "\n",
    "cv.imshow(\"PRUEBA_3\",img_rgb)    \n"
   ]
  },
  {
   "cell_type": "code",
   "execution_count": null,
   "metadata": {},
   "outputs": [],
   "source": [
    "####### PRUEBA 4 - coca_retro_1.png #######\n",
    "img_rgb = cv.imread('coca_retro_1.png')\n",
    "img_gray = cv.cvtColor(img_rgb, cv.COLOR_BGR2GRAY)\n",
    "template = cv.imread('pattern.png',0)\n",
    "\n",
    "w, h = template.shape[::-1]\n",
    "res = cv.matchTemplate(img_gray,template,cv.TM_CCOEFF_NORMED)\n",
    "# Fijamos un umbral de \"coincidencia\"\n",
    "threshold = 0.75\n",
    "\n",
    "\n",
    "loc = np.where( res >= threshold)\n",
    "for pt in zip(*loc[::-1]):\n",
    "    cv.rectangle(img_rgb, pt, (pt[0] + w, pt[1] + h), (0,0,255), 2)\n",
    "\n",
    "cv.imshow(\"PRUEBA_4\",img_rgb)   "
   ]
  },
  {
   "cell_type": "code",
   "execution_count": null,
   "metadata": {},
   "outputs": [],
   "source": [
    "####### PRUEBA 5 - coca_retro_2.png #######\n",
    "img_rgb = cv.imread('coca_retro_2.png')\n",
    "img_gray = cv.cvtColor(img_rgb, cv.COLOR_BGR2GRAY)\n",
    "template = cv.imread('pattern.png',0)\n",
    "\n",
    "w, h = template.shape[::-1]\n",
    "res = cv.matchTemplate(img_gray,template,cv.TM_CCOEFF_NORMED)\n",
    "# Fijamos un umbral de \"coincidencia\"\n",
    "threshold = 0.75\n",
    "\n",
    "\n",
    "loc = np.where( res >= threshold)\n",
    "for pt in zip(*loc[::-1]):\n",
    "    cv.rectangle(img_rgb, pt, (pt[0] + w, pt[1] + h), (0,0,255), 2)\n",
    "\n",
    "cv.imshow(\"PRUEBA_5\",img_rgb)   "
   ]
  },
  {
   "cell_type": "code",
   "execution_count": null,
   "metadata": {},
   "outputs": [],
   "source": [
    "####### PRUEBA 6 - COCA-COLA-LOGO.png #######\n",
    "img_rgb = cv.imread('COCA-COLA-LOGO.png')\n",
    "img_gray = cv.cvtColor(img_rgb, cv.COLOR_BGR2GRAY)\n",
    "template = cv.imread('pattern.png',0)\n",
    "\n",
    "w, h = template.shape[::-1]\n",
    "res = cv.matchTemplate(img_gray,template,cv.TM_CCOEFF_NORMED)\n",
    "# Fijamos un umbral de \"coincidencia\"\n",
    "threshold = 0.75\n",
    "\n",
    "\n",
    "loc = np.where( res >= threshold)\n",
    "for pt in zip(*loc[::-1]):\n",
    "    cv.rectangle(img_rgb, pt, (pt[0] + w, pt[1] + h), (0,0,255), 2)\n",
    "\n",
    "cv.imshow(\"PRUEBA_6\",img_rgb)   "
   ]
  },
  {
   "cell_type": "code",
   "execution_count": null,
   "metadata": {},
   "outputs": [],
   "source": [
    "####### PRUEBA 7 - logo_1.png #######\n",
    "img_rgb = cv.imread('logo_1.png')\n",
    "img_gray = cv.cvtColor(img_rgb, cv.COLOR_BGR2GRAY)\n",
    "template = cv.imread('pattern.png',0)\n",
    "\n",
    "w, h = template.shape[::-1]\n",
    "res = cv.matchTemplate(img_gray,template,cv.TM_CCOEFF_NORMED)\n",
    "# Fijamos un umbral de \"coincidencia\"\n",
    "threshold = 0.75\n",
    "\n",
    "\n",
    "loc = np.where( res >= threshold)\n",
    "for pt in zip(*loc[::-1]):\n",
    "    cv.rectangle(img_rgb, pt, (pt[0] + w, pt[1] + h), (0,0,255), 2)\n",
    "\n",
    "cv.imshow(\"PRUEBA_7\",img_rgb)   "
   ]
  }
 ],
 "metadata": {
  "kernelspec": {
   "display_name": "Python 3.10.6 64-bit (windows store)",
   "language": "python",
   "name": "python3"
  },
  "language_info": {
   "codemirror_mode": {
    "name": "ipython",
    "version": 3
   },
   "file_extension": ".py",
   "mimetype": "text/x-python",
   "name": "python",
   "nbconvert_exporter": "python",
   "pygments_lexer": "ipython3",
   "version": "3.10.6"
  },
  "vscode": {
   "interpreter": {
    "hash": "f8ca15d83b6fb72cece3edcf60f6aa40d2cbdeb5c60e0f188ff8c7c65828fd00"
   }
  }
 },
 "nbformat": 4,
 "nbformat_minor": 4
}
